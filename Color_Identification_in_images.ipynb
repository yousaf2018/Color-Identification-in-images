{
 "cells": [
  {
   "cell_type": "code",
   "execution_count": 138,
   "id": "b6e684cc",
   "metadata": {},
   "outputs": [],
   "source": [
    "from sklearn.cluster import KMeans\n",
    "import matplotlib.pyplot as plt\n",
    "import numpy as np\n",
    "import cv2\n",
    "from collections import Counter\n",
    "from skimage.color import rgb2lab, deltaE_cie76\n",
    "import os\n"
   ]
  },
  {
   "cell_type": "code",
   "execution_count": 178,
   "id": "37e7545f",
   "metadata": {},
   "outputs": [
    {
     "name": "stdout",
     "output_type": "stream",
     "text": [
      "The type of this input is <class 'numpy.ndarray'>\n",
      "Shape: (183, 275, 3)\n"
     ]
    },
    {
     "data": {
      "text/plain": [
       "<matplotlib.image.AxesImage at 0x2ddc7c1e2b0>"
      ]
     },
     "execution_count": 178,
     "metadata": {},
     "output_type": "execute_result"
    },
    {
     "data": {
      "image/png": "[encoded data removed]",
      "text/plain": [
       "<Figure size 432x288 with 1 Axes>"
      ]
     },
     "metadata": {
      "needs_background": "light"
     },
     "output_type": "display_data"
    }
   ],
   "source": [
    "image = cv2.imread('green.png')\n",
    "print(\"The type of this input is {}\".format(type(image)))\n",
    "print(\"Shape: {}\".format(image.shape))\n",
    "plt.imshow(image)\n",
    "\n",
    "## Output\n",
    "# The type of this input is <class 'numpy.ndarray'>\n",
    "# Shape: (3456, 4608, 3)"
   ]
  },
  {
   "cell_type": "code",
   "execution_count": 179,
   "id": "b25d5a90",
   "metadata": {},
   "outputs": [
    {
     "data": {
      "text/plain": [
       "<matplotlib.image.AxesImage at 0x2ddc7c746a0>"
      ]
     },
     "execution_count": 179,
     "metadata": {},
     "output_type": "execute_result"
    },
    {
     "data": {
      "image/png": "[encoded data removed]",
      "text/plain": [
       "<Figure size 432x288 with 1 Axes>"
      ]
     },
     "metadata": {
      "needs_background": "light"
     },
     "output_type": "display_data"
    }
   ],
   "source": [
    "image = cv2.cvtColor(image, cv2.COLOR_BGR2RGB)\n",
    "plt.imshow(image)"
   ]
  },
  {
   "cell_type": "code",
   "execution_count": 180,
   "id": "b4d40c4a",
   "metadata": {},
   "outputs": [
    {
     "data": {
      "text/plain": [
       "<matplotlib.image.AxesImage at 0x2ddc8696e50>"
      ]
     },
     "execution_count": 180,
     "metadata": {},
     "output_type": "execute_result"
    },
    {
     "data": {
      "image/png": "[encoded data removed]",
      "text/plain": [
       "<Figure size 432x288 with 1 Axes>"
      ]
     },
     "metadata": {
      "needs_background": "light"
     },
     "output_type": "display_data"
    }
   ],
   "source": [
    "\n",
    "gray_image = cv2.cvtColor(image, cv2.COLOR_BGR2GRAY)\n",
    "plt.imshow(gray_image, cmap='gray')"
   ]
  },
  {
   "cell_type": "code",
   "execution_count": 181,
   "id": "81d1698b",
   "metadata": {},
   "outputs": [
    {
     "data": {
      "text/plain": [
       "<matplotlib.image.AxesImage at 0x2ddc86f65b0>"
      ]
     },
     "execution_count": 181,
     "metadata": {},
     "output_type": "execute_result"
    },
    {
     "data": {
      "image/png": "[encoded data removed]",
      "text/plain": [
       "<Figure size 432x288 with 1 Axes>"
      ]
     },
     "metadata": {
      "needs_background": "light"
     },
     "output_type": "display_data"
    }
   ],
   "source": [
    "resized_image = cv2.resize(image, (1200, 1200))\n",
    "plt.imshow(resized_image)"
   ]
  },
  {
   "cell_type": "code",
   "execution_count": 182,
   "id": "85c7eb7c",
   "metadata": {},
   "outputs": [],
   "source": [
    "#Color Identification\n",
    "def RGB2HEX(color):\n",
    "    return \"#{:02x}{:02x}{:02x}\".format(int(color[0]), int(color[1]), int(color[2]))"
   ]
  },
  {
   "cell_type": "code",
   "execution_count": 183,
   "id": "a0bc65b2",
   "metadata": {},
   "outputs": [],
   "source": [
    "\n",
    "def get_image(image_path):\n",
    "    image = cv2.imread(image_path)\n",
    "    image = cv2.cvtColor(image, cv2.COLOR_BGR2RGB)\n",
    "    return image"
   ]
  },
  {
   "cell_type": "code",
   "execution_count": 184,
   "id": "e5760be6",
   "metadata": {},
   "outputs": [],
   "source": [
    "\n",
    "modified_image = cv2.resize(image, (600, 400), interpolation = cv2.INTER_AREA)\n",
    "modified_image = modified_image.reshape(modified_image.shape[0]*modified_image.shape[1], 3)"
   ]
  },
  {
   "cell_type": "code",
   "execution_count": 185,
   "id": "7a9c4db5",
   "metadata": {},
   "outputs": [
    {
     "name": "stderr",
     "output_type": "stream",
     "text": [
      "C:\\Users\\Mahmood Yousaf\\anaconda3\\lib\\site-packages\\sklearn\\cluster\\_kmeans.py:1077: ConvergenceWarning: Number of distinct clusters (1) found smaller than n_clusters (7). Possibly due to duplicate points in X.\n",
      "  return self.fit(X, sample_weight=sample_weight).labels_\n"
     ]
    }
   ],
   "source": [
    "number_of_colors = 7\n",
    "show_chart = 1\n",
    "clf = KMeans(n_clusters = number_of_colors)\n",
    "labels = clf.fit_predict(modified_image)"
   ]
  },
  {
   "cell_type": "code",
   "execution_count": 186,
   "id": "41b4df39",
   "metadata": {},
   "outputs": [
    {
     "data": {
      "image/png": "[encoded data removed]",
      "text/plain": [
       "<Figure size 576x432 with 1 Axes>"
      ]
     },
     "metadata": {},
     "output_type": "display_data"
    }
   ],
   "source": [
    "counts = Counter(labels)\n",
    "\n",
    "center_colors = clf.cluster_centers_\n",
    "# We get ordered colors by iterating through the keys\n",
    "ordered_colors = [center_colors[i] for i in counts.keys()]\n",
    "hex_colors = [RGB2HEX(ordered_colors[i]) for i in counts.keys()]\n",
    "rgb_colors = [ordered_colors[i] for i in counts.keys()]\n",
    "\n",
    "if (show_chart):\n",
    "    plt.figure(figsize = (8, 6))\n",
    "    plt.pie(counts.values(), labels = hex_colors, colors = hex_colors)\n"
   ]
  },
  {
   "cell_type": "code",
   "execution_count": null,
   "id": "21229923",
   "metadata": {},
   "outputs": [],
   "source": []
  },
  {
   "cell_type": "code",
   "execution_count": null,
   "id": "6b162e60",
   "metadata": {},
   "outputs": [],
   "source": []
  },
  {
   "cell_type": "code",
   "execution_count": null,
   "id": "1b3403fe",
   "metadata": {},
   "outputs": [],
   "source": []
  }
 ],
 "metadata": {
  "kernelspec": {
   "display_name": "Python 3",
   "language": "python",
   "name": "python3"
  },
  "language_info": {
   "codemirror_mode": {
    "name": "ipython",
    "version": 3
   },
   "file_extension": ".py",
   "mimetype": "text/x-python",
   "name": "python",
   "nbconvert_exporter": "python",
   "pygments_lexer": "ipython3",
   "version": "3.8.8"
  }
 },
 "nbformat": 4,
 "nbformat_minor": 5
}
